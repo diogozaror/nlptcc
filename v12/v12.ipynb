{
  "cells": [
    {
      "cell_type": "code",
      "execution_count": 1,
      "metadata": {},
      "outputs": [
        {
          "name": "stdout",
          "output_type": "stream",
          "text": [
            "Requirement already satisfied: keras_tuner in c:\\users\\diogo\\appdata\\local\\programs\\python\\python38\\lib\\site-packages (1.1.3)\n",
            "Requirement already satisfied: numpy in c:\\users\\diogo\\appdata\\local\\programs\\python\\python38\\lib\\site-packages (from keras_tuner) (1.23.4)\n",
            "Requirement already satisfied: kt-legacy in c:\\users\\diogo\\appdata\\local\\programs\\python\\python38\\lib\\site-packages (from keras_tuner) (1.0.4)\n",
            "Requirement already satisfied: tensorboard in c:\\users\\diogo\\appdata\\local\\programs\\python\\python38\\lib\\site-packages (from keras_tuner) (2.10.1)\n",
            "Requirement already satisfied: packaging in c:\\users\\diogo\\appdata\\roaming\\python\\python38\\site-packages (from keras_tuner) (21.3)\n",
            "Requirement already satisfied: ipython in c:\\users\\diogo\\appdata\\roaming\\python\\python38\\site-packages (from keras_tuner) (8.6.0)\n",
            "Requirement already satisfied: requests in c:\\users\\diogo\\appdata\\local\\programs\\python\\python38\\lib\\site-packages (from keras_tuner) (2.28.1)\n",
            "Requirement already satisfied: jedi>=0.16 in c:\\users\\diogo\\appdata\\roaming\\python\\python38\\site-packages (from ipython->keras_tuner) (0.18.1)\n",
            "Requirement already satisfied: pygments>=2.4.0 in c:\\users\\diogo\\appdata\\roaming\\python\\python38\\site-packages (from ipython->keras_tuner) (2.13.0)\n",
            "Requirement already satisfied: matplotlib-inline in c:\\users\\diogo\\appdata\\roaming\\python\\python38\\site-packages (from ipython->keras_tuner) (0.1.6)\n",
            "Requirement already satisfied: prompt-toolkit<3.1.0,>3.0.1 in c:\\users\\diogo\\appdata\\roaming\\python\\python38\\site-packages (from ipython->keras_tuner) (3.0.32)\n",
            "Requirement already satisfied: pickleshare in c:\\users\\diogo\\appdata\\roaming\\python\\python38\\site-packages (from ipython->keras_tuner) (0.7.5)\n",
            "Requirement already satisfied: traitlets>=5 in c:\\users\\diogo\\appdata\\roaming\\python\\python38\\site-packages (from ipython->keras_tuner) (5.5.0)\n",
            "Requirement already satisfied: backcall in c:\\users\\diogo\\appdata\\roaming\\python\\python38\\site-packages (from ipython->keras_tuner) (0.2.0)\n",
            "Requirement already satisfied: stack-data in c:\\users\\diogo\\appdata\\roaming\\python\\python38\\site-packages (from ipython->keras_tuner) (0.6.1)\n",
            "Requirement already satisfied: colorama in c:\\users\\diogo\\appdata\\roaming\\python\\python38\\site-packages (from ipython->keras_tuner) (0.4.6)\n",
            "Requirement already satisfied: decorator in c:\\users\\diogo\\appdata\\roaming\\python\\python38\\site-packages (from ipython->keras_tuner) (5.1.1)\n",
            "Requirement already satisfied: pyparsing!=3.0.5,>=2.0.2 in c:\\users\\diogo\\appdata\\roaming\\python\\python38\\site-packages (from packaging->keras_tuner) (3.0.9)\n",
            "Requirement already satisfied: charset-normalizer<3,>=2 in c:\\users\\diogo\\appdata\\local\\programs\\python\\python38\\lib\\site-packages (from requests->keras_tuner) (2.1.1)\n",
            "Requirement already satisfied: urllib3<1.27,>=1.21.1 in c:\\users\\diogo\\appdata\\local\\programs\\python\\python38\\lib\\site-packages (from requests->keras_tuner) (1.26.12)\n",
            "Requirement already satisfied: idna<4,>=2.5 in c:\\users\\diogo\\appdata\\local\\programs\\python\\python38\\lib\\site-packages (from requests->keras_tuner) (3.4)\n",
            "Requirement already satisfied: certifi>=2017.4.17 in c:\\users\\diogo\\appdata\\local\\programs\\python\\python38\\lib\\site-packages (from requests->keras_tuner) (2022.9.24)\n",
            "Requirement already satisfied: google-auth-oauthlib<0.5,>=0.4.1 in c:\\users\\diogo\\appdata\\local\\programs\\python\\python38\\lib\\site-packages (from tensorboard->keras_tuner) (0.4.6)\n",
            "Requirement already satisfied: tensorboard-plugin-wit>=1.6.0 in c:\\users\\diogo\\appdata\\local\\programs\\python\\python38\\lib\\site-packages (from tensorboard->keras_tuner) (1.8.1)\n",
            "Requirement already satisfied: setuptools>=41.0.0 in c:\\users\\diogo\\appdata\\local\\programs\\python\\python38\\lib\\site-packages (from tensorboard->keras_tuner) (41.2.0)\n",
            "Requirement already satisfied: grpcio>=1.24.3 in c:\\users\\diogo\\appdata\\local\\programs\\python\\python38\\lib\\site-packages (from tensorboard->keras_tuner) (1.50.0)\n",
            "Requirement already satisfied: werkzeug>=1.0.1 in c:\\users\\diogo\\appdata\\local\\programs\\python\\python38\\lib\\site-packages (from tensorboard->keras_tuner) (2.2.2)\n",
            "Requirement already satisfied: protobuf<3.20,>=3.9.2 in c:\\users\\diogo\\appdata\\local\\programs\\python\\python38\\lib\\site-packages (from tensorboard->keras_tuner) (3.19.6)\n",
            "Requirement already satisfied: wheel>=0.26 in c:\\users\\diogo\\appdata\\local\\programs\\python\\python38\\lib\\site-packages (from tensorboard->keras_tuner) (0.38.4)\n",
            "Requirement already satisfied: google-auth<3,>=1.6.3 in c:\\users\\diogo\\appdata\\local\\programs\\python\\python38\\lib\\site-packages (from tensorboard->keras_tuner) (2.14.1)\n",
            "Requirement already satisfied: tensorboard-data-server<0.7.0,>=0.6.0 in c:\\users\\diogo\\appdata\\local\\programs\\python\\python38\\lib\\site-packages (from tensorboard->keras_tuner) (0.6.1)\n",
            "Requirement already satisfied: absl-py>=0.4 in c:\\users\\diogo\\appdata\\local\\programs\\python\\python38\\lib\\site-packages (from tensorboard->keras_tuner) (1.3.0)\n",
            "Requirement already satisfied: markdown>=2.6.8 in c:\\users\\diogo\\appdata\\local\\programs\\python\\python38\\lib\\site-packages (from tensorboard->keras_tuner) (3.4.1)\n",
            "Requirement already satisfied: six>=1.9.0 in c:\\users\\diogo\\appdata\\roaming\\python\\python38\\site-packages (from google-auth<3,>=1.6.3->tensorboard->keras_tuner) (1.16.0)\n",
            "Requirement already satisfied: pyasn1-modules>=0.2.1 in c:\\users\\diogo\\appdata\\local\\programs\\python\\python38\\lib\\site-packages (from google-auth<3,>=1.6.3->tensorboard->keras_tuner) (0.2.8)\n",
            "Requirement already satisfied: cachetools<6.0,>=2.0.0 in c:\\users\\diogo\\appdata\\local\\programs\\python\\python38\\lib\\site-packages (from google-auth<3,>=1.6.3->tensorboard->keras_tuner) (5.2.0)\n",
            "Requirement already satisfied: rsa<5,>=3.1.4 in c:\\users\\diogo\\appdata\\local\\programs\\python\\python38\\lib\\site-packages (from google-auth<3,>=1.6.3->tensorboard->keras_tuner) (4.9)\n",
            "Requirement already satisfied: requests-oauthlib>=0.7.0 in c:\\users\\diogo\\appdata\\local\\programs\\python\\python38\\lib\\site-packages (from google-auth-oauthlib<0.5,>=0.4.1->tensorboard->keras_tuner) (1.3.1)\n",
            "Requirement already satisfied: parso<0.9.0,>=0.8.0 in c:\\users\\diogo\\appdata\\roaming\\python\\python38\\site-packages (from jedi>=0.16->ipython->keras_tuner) (0.8.3)\n",
            "Requirement already satisfied: importlib-metadata>=4.4 in c:\\users\\diogo\\appdata\\local\\programs\\python\\python38\\lib\\site-packages (from markdown>=2.6.8->tensorboard->keras_tuner) (5.0.0)\n",
            "Requirement already satisfied: wcwidth in c:\\users\\diogo\\appdata\\roaming\\python\\python38\\site-packages (from prompt-toolkit<3.1.0,>3.0.1->ipython->keras_tuner) (0.2.5)\n",
            "Requirement already satisfied: MarkupSafe>=2.1.1 in c:\\users\\diogo\\appdata\\local\\programs\\python\\python38\\lib\\site-packages (from werkzeug>=1.0.1->tensorboard->keras_tuner) (2.1.1)\n",
            "Requirement already satisfied: pure-eval in c:\\users\\diogo\\appdata\\roaming\\python\\python38\\site-packages (from stack-data->ipython->keras_tuner) (0.2.2)\n",
            "Requirement already satisfied: executing>=1.2.0 in c:\\users\\diogo\\appdata\\roaming\\python\\python38\\site-packages (from stack-data->ipython->keras_tuner) (1.2.0)\n",
            "Requirement already satisfied: asttokens>=2.1.0 in c:\\users\\diogo\\appdata\\roaming\\python\\python38\\site-packages (from stack-data->ipython->keras_tuner) (2.1.0)\n",
            "Requirement already satisfied: zipp>=0.5 in c:\\users\\diogo\\appdata\\local\\programs\\python\\python38\\lib\\site-packages (from importlib-metadata>=4.4->markdown>=2.6.8->tensorboard->keras_tuner) (3.10.0)\n",
            "Requirement already satisfied: pyasn1<0.5.0,>=0.4.6 in c:\\users\\diogo\\appdata\\local\\programs\\python\\python38\\lib\\site-packages (from pyasn1-modules>=0.2.1->google-auth<3,>=1.6.3->tensorboard->keras_tuner) (0.4.8)\n",
            "Requirement already satisfied: oauthlib>=3.0.0 in c:\\users\\diogo\\appdata\\local\\programs\\python\\python38\\lib\\site-packages (from requests-oauthlib>=0.7.0->google-auth-oauthlib<0.5,>=0.4.1->tensorboard->keras_tuner) (3.2.2)\n",
            "Note: you may need to restart the kernel to use updated packages.\n"
          ]
        }
      ],
      "source": [
        "pip install keras_tuner"
      ]
    },
    {
      "cell_type": "code",
      "execution_count": 2,
      "metadata": {},
      "outputs": [
        {
          "name": "stdout",
          "output_type": "stream",
          "text": [
            "Requirement already satisfied: tensorflow in c:\\users\\diogo\\appdata\\local\\programs\\python\\python38\\lib\\site-packages (2.10.0)\n",
            "Requirement already satisfied: gast<=0.4.0,>=0.2.1 in c:\\users\\diogo\\appdata\\local\\programs\\python\\python38\\lib\\site-packages (from tensorflow) (0.4.0)\n",
            "Requirement already satisfied: protobuf<3.20,>=3.9.2 in c:\\users\\diogo\\appdata\\local\\programs\\python\\python38\\lib\\site-packages (from tensorflow) (3.19.6)\n",
            "Requirement already satisfied: wrapt>=1.11.0 in c:\\users\\diogo\\appdata\\local\\programs\\python\\python38\\lib\\site-packages (from tensorflow) (1.14.1)\n",
            "Requirement already satisfied: libclang>=13.0.0 in c:\\users\\diogo\\appdata\\local\\programs\\python\\python38\\lib\\site-packages (from tensorflow) (14.0.6)\n",
            "Requirement already satisfied: absl-py>=1.0.0 in c:\\users\\diogo\\appdata\\local\\programs\\python\\python38\\lib\\site-packages (from tensorflow) (1.3.0)\n",
            "Requirement already satisfied: astunparse>=1.6.0 in c:\\users\\diogo\\appdata\\local\\programs\\python\\python38\\lib\\site-packages (from tensorflow) (1.6.3)\n",
            "Requirement already satisfied: packaging in c:\\users\\diogo\\appdata\\roaming\\python\\python38\\site-packages (from tensorflow) (21.3)\n",
            "Requirement already satisfied: opt-einsum>=2.3.2 in c:\\users\\diogo\\appdata\\local\\programs\\python\\python38\\lib\\site-packages (from tensorflow) (3.3.0)\n",
            "Requirement already satisfied: setuptools in c:\\users\\diogo\\appdata\\local\\programs\\python\\python38\\lib\\site-packages (from tensorflow) (41.2.0)\n",
            "Requirement already satisfied: termcolor>=1.1.0 in c:\\users\\diogo\\appdata\\local\\programs\\python\\python38\\lib\\site-packages (from tensorflow) (2.1.0)\n",
            "Requirement already satisfied: numpy>=1.20 in c:\\users\\diogo\\appdata\\local\\programs\\python\\python38\\lib\\site-packages (from tensorflow) (1.23.4)\n",
            "Requirement already satisfied: flatbuffers>=2.0 in c:\\users\\diogo\\appdata\\local\\programs\\python\\python38\\lib\\site-packages (from tensorflow) (22.10.26)\n",
            "Requirement already satisfied: tensorflow-estimator<2.11,>=2.10.0 in c:\\users\\diogo\\appdata\\local\\programs\\python\\python38\\lib\\site-packages (from tensorflow) (2.10.0)\n",
            "Requirement already satisfied: keras-preprocessing>=1.1.1 in c:\\users\\diogo\\appdata\\local\\programs\\python\\python38\\lib\\site-packages (from tensorflow) (1.1.2)\n",
            "Requirement already satisfied: keras<2.11,>=2.10.0 in c:\\users\\diogo\\appdata\\local\\programs\\python\\python38\\lib\\site-packages (from tensorflow) (2.10.0)\n",
            "Requirement already satisfied: six>=1.12.0 in c:\\users\\diogo\\appdata\\roaming\\python\\python38\\site-packages (from tensorflow) (1.16.0)\n",
            "Requirement already satisfied: tensorflow-io-gcs-filesystem>=0.23.1 in c:\\users\\diogo\\appdata\\local\\programs\\python\\python38\\lib\\site-packages (from tensorflow) (0.27.0)\n",
            "Requirement already satisfied: tensorboard<2.11,>=2.10 in c:\\users\\diogo\\appdata\\local\\programs\\python\\python38\\lib\\site-packages (from tensorflow) (2.10.1)\n",
            "Requirement already satisfied: h5py>=2.9.0 in c:\\users\\diogo\\appdata\\local\\programs\\python\\python38\\lib\\site-packages (from tensorflow) (3.7.0)\n",
            "Requirement already satisfied: google-pasta>=0.1.1 in c:\\users\\diogo\\appdata\\local\\programs\\python\\python38\\lib\\site-packages (from tensorflow) (0.2.0)\n",
            "Requirement already satisfied: typing-extensions>=3.6.6 in c:\\users\\diogo\\appdata\\local\\programs\\python\\python38\\lib\\site-packages (from tensorflow) (4.4.0)\n",
            "Requirement already satisfied: grpcio<2.0,>=1.24.3 in c:\\users\\diogo\\appdata\\local\\programs\\python\\python38\\lib\\site-packages (from tensorflow) (1.50.0)\n",
            "Requirement already satisfied: wheel<1.0,>=0.23.0 in c:\\users\\diogo\\appdata\\local\\programs\\python\\python38\\lib\\site-packages (from astunparse>=1.6.0->tensorflow) (0.38.4)\n",
            "Requirement already satisfied: tensorboard-plugin-wit>=1.6.0 in c:\\users\\diogo\\appdata\\local\\programs\\python\\python38\\lib\\site-packages (from tensorboard<2.11,>=2.10->tensorflow) (1.8.1)\n",
            "Requirement already satisfied: tensorboard-data-server<0.7.0,>=0.6.0 in c:\\users\\diogo\\appdata\\local\\programs\\python\\python38\\lib\\site-packages (from tensorboard<2.11,>=2.10->tensorflow) (0.6.1)\n",
            "Requirement already satisfied: google-auth<3,>=1.6.3 in c:\\users\\diogo\\appdata\\local\\programs\\python\\python38\\lib\\site-packages (from tensorboard<2.11,>=2.10->tensorflow) (2.14.1)\n",
            "Requirement already satisfied: werkzeug>=1.0.1 in c:\\users\\diogo\\appdata\\local\\programs\\python\\python38\\lib\\site-packages (from tensorboard<2.11,>=2.10->tensorflow) (2.2.2)\n",
            "Requirement already satisfied: requests<3,>=2.21.0 in c:\\users\\diogo\\appdata\\local\\programs\\python\\python38\\lib\\site-packages (from tensorboard<2.11,>=2.10->tensorflow) (2.28.1)\n",
            "Requirement already satisfied: google-auth-oauthlib<0.5,>=0.4.1 in c:\\users\\diogo\\appdata\\local\\programs\\python\\python38\\lib\\site-packages (from tensorboard<2.11,>=2.10->tensorflow) (0.4.6)\n",
            "Requirement already satisfied: markdown>=2.6.8 in c:\\users\\diogo\\appdata\\local\\programs\\python\\python38\\lib\\site-packages (from tensorboard<2.11,>=2.10->tensorflow) (3.4.1)\n",
            "Requirement already satisfied: pyparsing!=3.0.5,>=2.0.2 in c:\\users\\diogo\\appdata\\roaming\\python\\python38\\site-packages (from packaging->tensorflow) (3.0.9)\n",
            "Requirement already satisfied: cachetools<6.0,>=2.0.0 in c:\\users\\diogo\\appdata\\local\\programs\\python\\python38\\lib\\site-packages (from google-auth<3,>=1.6.3->tensorboard<2.11,>=2.10->tensorflow) (5.2.0)\n",
            "Requirement already satisfied: rsa<5,>=3.1.4 in c:\\users\\diogo\\appdata\\local\\programs\\python\\python38\\lib\\site-packages (from google-auth<3,>=1.6.3->tensorboard<2.11,>=2.10->tensorflow) (4.9)\n",
            "Requirement already satisfied: pyasn1-modules>=0.2.1 in c:\\users\\diogo\\appdata\\local\\programs\\python\\python38\\lib\\site-packages (from google-auth<3,>=1.6.3->tensorboard<2.11,>=2.10->tensorflow) (0.2.8)\n",
            "Requirement already satisfied: requests-oauthlib>=0.7.0 in c:\\users\\diogo\\appdata\\local\\programs\\python\\python38\\lib\\site-packages (from google-auth-oauthlib<0.5,>=0.4.1->tensorboard<2.11,>=2.10->tensorflow) (1.3.1)\n",
            "Requirement already satisfied: importlib-metadata>=4.4 in c:\\users\\diogo\\appdata\\local\\programs\\python\\python38\\lib\\site-packages (from markdown>=2.6.8->tensorboard<2.11,>=2.10->tensorflow) (5.0.0)\n",
            "Requirement already satisfied: certifi>=2017.4.17 in c:\\users\\diogo\\appdata\\local\\programs\\python\\python38\\lib\\site-packages (from requests<3,>=2.21.0->tensorboard<2.11,>=2.10->tensorflow) (2022.9.24)\n",
            "Requirement already satisfied: urllib3<1.27,>=1.21.1 in c:\\users\\diogo\\appdata\\local\\programs\\python\\python38\\lib\\site-packages (from requests<3,>=2.21.0->tensorboard<2.11,>=2.10->tensorflow) (1.26.12)\n",
            "Requirement already satisfied: idna<4,>=2.5 in c:\\users\\diogo\\appdata\\local\\programs\\python\\python38\\lib\\site-packages (from requests<3,>=2.21.0->tensorboard<2.11,>=2.10->tensorflow) (3.4)\n",
            "Requirement already satisfied: charset-normalizer<3,>=2 in c:\\users\\diogo\\appdata\\local\\programs\\python\\python38\\lib\\site-packages (from requests<3,>=2.21.0->tensorboard<2.11,>=2.10->tensorflow) (2.1.1)\n",
            "Requirement already satisfied: MarkupSafe>=2.1.1 in c:\\users\\diogo\\appdata\\local\\programs\\python\\python38\\lib\\site-packages (from werkzeug>=1.0.1->tensorboard<2.11,>=2.10->tensorflow) (2.1.1)\n",
            "Requirement already satisfied: zipp>=0.5 in c:\\users\\diogo\\appdata\\local\\programs\\python\\python38\\lib\\site-packages (from importlib-metadata>=4.4->markdown>=2.6.8->tensorboard<2.11,>=2.10->tensorflow) (3.10.0)\n",
            "Requirement already satisfied: pyasn1<0.5.0,>=0.4.6 in c:\\users\\diogo\\appdata\\local\\programs\\python\\python38\\lib\\site-packages (from pyasn1-modules>=0.2.1->google-auth<3,>=1.6.3->tensorboard<2.11,>=2.10->tensorflow) (0.4.8)\n",
            "Requirement already satisfied: oauthlib>=3.0.0 in c:\\users\\diogo\\appdata\\local\\programs\\python\\python38\\lib\\site-packages (from requests-oauthlib>=0.7.0->google-auth-oauthlib<0.5,>=0.4.1->tensorboard<2.11,>=2.10->tensorflow) (3.2.2)\n",
            "Note: you may need to restart the kernel to use updated packages.\n"
          ]
        }
      ],
      "source": [
        "pip install tensorflow"
      ]
    },
    {
      "cell_type": "code",
      "execution_count": 3,
      "metadata": {
        "id": "Km-9N-ZdMsgN"
      },
      "outputs": [],
      "source": [
        "import os\n",
        "import time\n",
        "import nrrlib as ntl\n",
        "from keras.backend import dropout\n",
        "start_time = time.time()\n",
        "import tensorflow as tf\n",
        "import numpy as np\n",
        "import random as rn"
      ]
    },
    {
      "cell_type": "code",
      "execution_count": 4,
      "metadata": {
        "id": "D-ew3dDfMvlQ"
      },
      "outputs": [],
      "source": [
        "# random state\n",
        "sd = 5\n",
        "np.random.seed(sd)\n",
        "rn.seed(sd)\n",
        "os.environ['PYTHONHASHSEED']=str(sd)\n",
        "tf.random.set_seed(sd)"
      ]
    },
    {
      "cell_type": "code",
      "execution_count": 5,
      "metadata": {
        "id": "nRrKc65DiV_I"
      },
      "outputs": [],
      "source": [
        "# load das libs\n",
        "# load das libs\n",
        "import matplotlib.pyplot as plt\n",
        "from keras.preprocessing import sequence\n",
        "from keras.models import Sequential\n",
        "from keras.layers import Dense, Dropout, Activation\n",
        "from keras.layers import Embedding\n",
        "from keras.layers import Conv1D, Flatten, MaxPooling1D, LSTM, Bidirectional\n",
        "import pandas as pd\n",
        "import sklearn\n",
        "from sklearn.model_selection import train_test_split\n",
        "from keras.preprocessing.text import Tokenizer\n",
        "from tensorflow.keras.preprocessing.sequence import pad_sequences\n",
        "from tensorflow.keras.layers import Embedding\n",
        "from tensorflow.keras.optimizers import Adam\n",
        "from tensorflow.keras.optimizers import Nadam\n",
        "from tensorflow.keras.optimizers import SGD\n",
        "from tensorflow.keras import optimizers\n",
        "from tensorflow.keras.callbacks import EarlyStopping\n",
        "from tensorflow.keras.callbacks import ModelCheckpoint\n",
        "import tensorflow as tf\n",
        "from tensorflow.keras.optimizers import RMSprop \n",
        "from gensim.models import KeyedVectors\n",
        "import sklearn.gaussian_process as gp\n",
        "import numpy\n",
        "from keras.callbacks import Callback, ModelCheckpoint, CSVLogger\n",
        "from sklearn.metrics import roc_auc_score, roc_curve, confusion_matrix\n",
        "import json\n",
        "\n",
        "import keras_tuner as kt #Bayesian Optimization tuner - hp [hiperparameters]\n",
        "\n",
        "\n",
        "class RocAucEvaluation(Callback):\n",
        "    def __init__(self, validation_data=(), interval=1):\n",
        "        super(Callback, self).__init__()\n",
        "\n",
        "        self.interval = interval\n",
        "        self.X_val, self.y_val = validation_data\n",
        "\n",
        "    def on_epoch_end(self, epoch, logs={}):\n",
        "        if epoch % self.interval == 0:\n",
        "            y_pred = self.model.predict(self.X_val, verbose=0)\n",
        "            self.score = roc_auc_score(self.y_val, y_pred)\n",
        "            self.false_positive_rate, self.true_positive_rate, _ = roc_curve(self.y_val, y_pred)"
      ]
    },
    {
      "cell_type": "code",
      "execution_count": 6,
      "metadata": {},
      "outputs": [
        {
          "name": "stdout",
          "output_type": "stream",
          "text": [
            "WARNING:tensorflow:From C:\\Users\\Diogo\\AppData\\Local\\Temp\\ipykernel_2180\\2773141869.py:1: is_gpu_available (from tensorflow.python.framework.test_util) is deprecated and will be removed in a future version.\n",
            "Instructions for updating:\n",
            "Use `tf.config.list_physical_devices('GPU')` instead.\n",
            "False\n"
          ]
        }
      ],
      "source": [
        "print(tf.test.is_gpu_available())"
      ]
    },
    {
      "cell_type": "code",
      "execution_count": 7,
      "metadata": {
        "colab": {
          "base_uri": "https://localhost:8080/"
        },
        "id": "iKhPzVshigFg",
        "outputId": "41879e5a-24f8-473b-dcff-d762b54fc2b2"
      },
      "outputs": [
        {
          "name": "stdout",
          "output_type": "stream",
          "text": [
            "<bound method NDFrame.head of                                                    tweet        label\n",
            "0      a primeira vez que um genocida presta solidari...      hatetag\n",
            "1                      bolsonaro assassino de  mil vidas      hatetag\n",
            "2      bolsonaro bosta bolsomerda bozolixo em realeng...      hatetag\n",
            "3      bolsonaro nazista bozolixo mito mico lulalivre...      hatetag\n",
            "4      bolsonaro nazista brasil fascismo nazismo bols...      hatetag\n",
            "...                                                  ...          ...\n",
            "31618  única coisa que atraio é os carros na hora que...  not_hatetag\n",
            "31619                         única explicação plausível  not_hatetag\n",
            "31620  única foto que tenho de ontem é uma minha e da...  not_hatetag\n",
            "31621                 único  que eu respeito bozo elenão      hatetag\n",
            "31622  único posicionamento possível da anitta neste ...  not_hatetag\n",
            "\n",
            "[31623 rows x 2 columns]>\n",
            "Dataset Loaded\n",
            "Data Preprocessed\n",
            "Max sentence length: 100\n",
            "Vocabulary size: 39618\n",
            "y é isso aqui: [1 1 1 ... 0 1 0]\n",
            "\n",
            "Time to load model: 147.4 s.\n",
            "\n"
          ]
        }
      ],
      "source": [
        "# Load data\n",
        "reviews = pd.read_csv('C:/Users/Diogo/Documents/faculdade/tcc/hatetag_not_hatetag.csv')\n",
        "\n",
        "#print(reviews1.head)\n",
        "print(reviews.head)\n",
        "\n",
        "pd.set_option('display.max_colwidth',1000)\n",
        "\n",
        "classe = [1 if each == 'hatetag' else 0 for each in reviews[' label']]\n",
        "texto = reviews['tweet']\n",
        "\n",
        "print('Dataset Loaded')\n",
        "#test_tokenize(tokenize)\n",
        "text_tokenized, text_tokenizer = ntl.tokenize(texto)\n",
        "\n",
        "ntl.test_pad(ntl.pad)\n",
        "test_pad = ntl.pad(text_tokenized)\n",
        "\n",
        "target = classe\n",
        "#y = pd.get_dummies(target).values\n",
        "y = numpy.array(target)\n",
        "\n",
        "preproc_texto, texto_tokenizer =\\\n",
        "    ntl.preprocess(texto)\n",
        "    \n",
        "max_text_length = preproc_texto.shape[1]\n",
        "text_vocab_size = len(texto_tokenizer.word_index)\n",
        "\n",
        "worddx = texto_tokenizer.word_index\n",
        "\n",
        "print('Data Preprocessed')\n",
        "print(\"Max sentence length:\", max_text_length)\n",
        "print(\"Vocabulary size:\", text_vocab_size)\n",
        "\n",
        "# parametros:\n",
        "tam_vocab = text_vocab_size # vocabulário do embedding\n",
        "tam_max = max_text_length # 100\n",
        "batchsize = 32  # 64\n",
        "embedding_dimen = 300  # 50 ! 300\n",
        "filtros = 250 #250\n",
        "kernel_size = 2 # 3 | 2\n",
        "hidden_dims = 100 # not used\n",
        "epochs = 50\n",
        "lr = 0.0006 # 0.00006\n",
        "drp = 0.4   # coeficiente de dropout\n",
        "\n",
        "print(f'y é isso aqui: {y}')\n",
        "\n",
        "X_train, X_test, y_train, y_test = train_test_split(test_pad, y, test_size=0.3)\n",
        "\n",
        "#lr_schedule = optimizers.schedules.ExponentialDecay(\n",
        "#    initial_learning_rate=lr,\n",
        "#    decay_steps=10000,\n",
        "#    decay_rate=0.9)\n",
        "#optimizer = Adam(learning_rate=lr_schedule)\n",
        "#optimizer = SGD(learning_rate=lr_schedule)\n",
        "#optimizer = Nadam(learning_rate=0.01)\n",
        "\n",
        "start_time2 = time.time()\n",
        "wvec = KeyedVectors.load_word2vec_format('C:/Users/Diogo/Documents/faculdade/tcc/cbow_s300.txt')\n",
        "#wvec = KeyedVectors.load_word2vec_format(\"cbow_s50.txt\")\n",
        "#wvec = KeyedVectors.load_word2vec_format(\"skip_s50.txt\")\n",
        "print(); print(\"Time to load model: %.5s s.\\n\" % (time.time() - start_time2))"
      ]
    },
    {
      "cell_type": "code",
      "execution_count": 8,
      "metadata": {
        "id": "ieKB4h1ai30b"
      },
      "outputs": [],
      "source": [
        "# gerando a matriz do embedding\n",
        "embedding_matrix = np.zeros((tam_vocab+1, embedding_dimen))\n",
        "for word, i in worddx.items():\n",
        "    if i>=tam_vocab:\n",
        "        continue\n",
        "    try:\n",
        "        embedding_vector = wvec[word]\n",
        "        embedding_matrix[i] = embedding_vector\n",
        "    except KeyError:\n",
        "        embedding_matrix[i]=np.random.normal(0,np.sqrt(0.25),embedding_dimen)\n",
        "\n",
        "\n",
        "del(wvec)\n",
        "\n",
        "# defininindo a camada de embedding utilizando a matriz\n",
        "embedding_layer = Embedding(input_dim=embedding_matrix.shape[0],\n",
        "                            output_dim=embedding_matrix.shape[1],\n",
        "                            weights=[embedding_matrix],\n",
        "                            input_length=tam_max,\n",
        "                            trainable=True)\n",
        "\n",
        "\n",
        "\n",
        "del(embedding_matrix)\n",
        "\n",
        "#    embedding_vec = embeddings_index.get(word)\n",
        "#    if embedding_vec is not None:\n",
        "#        embedding_matrix[index] = embedding_vec"
      ]
    },
    {
      "cell_type": "code",
      "execution_count": 9,
      "metadata": {
        "colab": {
          "base_uri": "https://localhost:8080/"
        },
        "id": "UxNdO2PW2E5a",
        "outputId": "9e30bb4a-ca23-47ac-f454-aa269b753538"
      },
      "outputs": [
        {
          "name": "stdout",
          "output_type": "stream",
          "text": [
            "INFO:tensorflow:Reloading Oracle from existing project .\\tuning-cnn\\oracle.json\n",
            "INFO:tensorflow:Reloading Tuner from .\\tuning-cnn\\tuner0.json\n",
            "(22136, 100)\n",
            "(9487, 100)\n",
            "INFO:tensorflow:Oracle triggered exit\n",
            "\n",
            "Tempo de execução: 150.7 segundos.\n",
            "\n"
          ]
        }
      ],
      "source": [
        "def build_model(hp):\n",
        "  model = Sequential()\n",
        "  # primeira camada se trata do embedding. \n",
        "  model.add(embedding_layer)\n",
        "\n",
        "  # input = numero de possiveis palavras, dimensão do espaço(complex!), e 137\n",
        "  #model.add(Embedding(tam_vocab, embedding_dimen, input_length=tam_max)) \n",
        "\n",
        "  # camada convolucional\n",
        "  # filtros referentes ao output dessa camada,\n",
        "  # tamanho nucleo = 3, se tratando apenas de uma dimensão (conv1d)\n",
        "  # padding 'valid' = sem padding\n",
        "  # função de ativação = relu\n",
        "\n",
        "  model.add(LSTM(20, activation='tanh',recurrent_activation='sigmoid', recurrent_dropout=0, unroll=False, use_bias=True, return_sequences=True))\n",
        "\n",
        "  model.add(MaxPooling1D())\n",
        "  \n",
        "  model.add(LSTM(20, activation='tanh'))\n",
        "  model.add(Dropout(hp.Choice('dropout_'+ str(i), values=[0.0, 0.1, 0.2, 0.4])))\n",
        "\n",
        "\n",
        "  # nivela o output para utilização na camada densa\n",
        "  model.add(Flatten())\n",
        "\n",
        "  #model.add(Dense(2, activation='sigmoid')) #FUNÇÃO VAGABUNDA\n",
        "  model.add(Dense(1, activation='sigmoid')) \n",
        "\n",
        "  hp_learning_rate = hp.Choice('learning_rate', values=[1e-2, 1e-3, 1e-4, 1e-5, 1e-6])\n",
        "  hp_optimizer = RMSprop(hp_learning_rate)\n",
        "\n",
        "  '''\n",
        "  if hp_optimizer == 'Adam':\n",
        "    learning_rate = hp_learning_rate\n",
        "  elif hp_optimizer == 'SGD':\n",
        "    learning_rate = hp_learning_rate\n",
        "    nesterov=True\n",
        "    momentum=0.9\n",
        "  elif hp_optimizer == 'Optimizer':\n",
        "    hp_optimizer = optimizer'''\n",
        "\n",
        "\n",
        "\n",
        "  # calculo de loss adotado = binary_crossentropy/categorical_crossentropy\n",
        "  #model.compile(loss='binary_crossentropy', optimizer=Adam(lr), metrics=['accuracy'])\n",
        "  model.compile(loss='binary_crossentropy', optimizer=hp_optimizer, metrics=['accuracy'])\n",
        "\n",
        "  return model\n",
        "\n",
        "tuner_cnn = kt.tuners.BayesianOptimization(\n",
        "    build_model,\n",
        "    objective='val_loss',\n",
        "    max_trials=10,\n",
        "    directory='.',\n",
        "    project_name='tuning-cnn')\n",
        "\n",
        "\n",
        "print(X_train.shape)\n",
        "#print(y_train.shape)\n",
        "print(X_test.shape)\n",
        "#print(y_test.shape)\n",
        "\n",
        "# Fit the model                                                                                               #val split\n",
        "# history = model.fit(X_train, y_train, batch_size=batchsize, epochs=epochs,validation_data=(X_test, y_test), validation_split = 0.3, verbose=2)\n",
        "tuner_cnn.search(X_train, y_train, batch_size=batchsize, epochs=epochs, validation_data=(X_test, y_test), validation_split = 0.3, verbose=1)\n",
        "\n",
        "# Final evaluation of the model\n",
        "# scores = model.evaluate(X_test, y_test, verbose=1)\n",
        "#print(\"Accuracy: %.2f%%\" % (scores[1]*100))\n",
        "\n",
        "# tempo de execução total\n",
        "print(); print(\"Tempo de execução: %.5s segundos.\\n\" % (time.time() - start_time))\n",
        "\n",
        "# plot dos gráficos\n",
        "# ntl.plot_accuracy(history)\n",
        "# ntl.plot_loss(history)"
      ]
    },
    {
      "cell_type": "code",
      "execution_count": 10,
      "metadata": {
        "id": "0pTJsWyWuz_u"
      },
      "outputs": [
        {
          "name": "stdout",
          "output_type": "stream",
          "text": [
            "Modelo ideal:\n",
            "\n"
          ]
        },
        {
          "data": {
            "text/plain": [
              "{'dropout_39618': 0.0, 'learning_rate': 0.01}"
            ]
          },
          "execution_count": 10,
          "metadata": {},
          "output_type": "execute_result"
        }
      ],
      "source": [
        "best_model = tuner_cnn.get_best_models()[0]\n",
        "best_hp = tuner_cnn.get_best_hyperparameters(1)[0]\n",
        "print('Modelo ideal:\\n')\n",
        "best_hp.values"
      ]
    },
    {
      "cell_type": "code",
      "execution_count": 11,
      "metadata": {
        "id": "sAXpmUgMDAY1"
      },
      "outputs": [],
      "source": [
        "best_acc = tuner_cnn.oracle.get_best_trials()[0].score"
      ]
    },
    {
      "cell_type": "code",
      "execution_count": 12,
      "metadata": {
        "id": "U6n4o4R3Cj6v"
      },
      "outputs": [],
      "source": [
        "best_hpp = tuner_cnn.get_best_hyperparameters(1)[0]"
      ]
    },
    {
      "cell_type": "code",
      "execution_count": 13,
      "metadata": {},
      "outputs": [],
      "source": [
        "#se for pra dar load\n",
        "\n",
        "#opt_model = tf.keras.models.load_model('best_model.h5')\n",
        "#history = opt_model.fit(X_train, y_train, batch_size=batchsize, epochs=epochs,validation_data=(X_test, y_test), validation_split = 0.3, verbose=1, callbacks = [EarlyStopping(monitor='val_loss', patience=10),\n",
        "#             ModelCheckpoint(filepath='best_model.h5', monitor='val_loss', save_best_only=True)])"
      ]
    },
    {
      "cell_type": "code",
      "execution_count": 14,
      "metadata": {
        "id": "rLJJE4Y4CEa-"
      },
      "outputs": [],
      "source": [
        "resultados = pd.read_csv('../resultados.csv')\n",
        "\n",
        "opt_model = tuner_cnn.hypermodel.build(best_hpp)\n",
        "\n",
        "# ra_val = RocAucEvaluation(validation_data=(X_test, y_test), interval = 1)\n",
        "\n",
        "# csv_logger = CSVLogger('log.csv', append=False, separator=';')\n",
        "\n",
        "# history = opt_model.fit(X_train, y_train, batch_size=batchsize, epochs=epochs,validation_data=(X_test, y_test), callbacks=[EarlyStopping(monitor='val_loss', patience=8),\n",
        "#              ModelCheckpoint(filepath='best_model.h5', monitor='val_loss', save_best_only=True), ra_val, csv_logger], validation_split = 0.3, verbose=2)\n",
        "\n",
        "\n",
        "# scores = opt_model.evaluate(X_test, y_test, verbose=1)\n",
        "\n",
        "# y_predito = opt_model.predict(X_test).round()  \n",
        "# y_gabarito = y_test\n",
        "\n",
        "# # Parâmetros\n",
        "# # rede base otimizador acuracia val_loss learning_rate dropout batch_size roc_curve train_resume confusion_matrix\n",
        "# NOME_REDE = \"V12\"\n",
        "# NOME_BASE = 'PADRAO'\n",
        "# NOME_OTIMIZADOR = 'RMSProp'\n",
        "# ACURACIA = scores[1]\n",
        "# LOSS = scores[0] \n",
        "# LEARNING_RATE = tuner_cnn.get_best_hyperparameters(1)[0]['learning_rate']\n",
        "# DROPOUT_RATE = tuner_cnn.get_best_hyperparameters(1)[0]['dropout_39618']\n",
        "# BATCH = batchsize\n",
        "# ROC_CURVE = json.dumps({\n",
        "#     \"false_positive_rate\": list(ra_val.false_positive_rate),\n",
        "#     \"true_positive_rate\": list(ra_val.true_positive_rate),\n",
        "#     \"score\": ra_val.score})\n",
        "# TRAIN_RESUME = json.dumps(pd.read_csv('log.csv',sep=';').to_dict()) \n",
        "\n",
        "# confusion = confusion_matrix(y_gabarito, y_predito)\n",
        "# CONFUSION_MATRIX = json.dumps({\n",
        "#     \"00\": int(confusion[0][0]),\n",
        "#     \"01\": int(confusion[0][1]),\n",
        "#     \"10\": int(confusion[1][0]),\n",
        "#     \"11\": int(confusion[1][1])\n",
        "# })\n",
        "\n",
        "# EPOCHS = len(history.history['val_loss'])\n",
        "# RANK = ACURACIA/LOSS\n",
        "\n",
        "# # Salvando resultado do modelo\n",
        "# registro_resultado = {resultados.columns[0]: NOME_REDE, \n",
        "#                         resultados.columns[1]: NOME_BASE, \n",
        "#                         resultados.columns[2]: NOME_OTIMIZADOR,\n",
        "#                         resultados.columns[3]: ACURACIA, \n",
        "#                         resultados.columns[4]: LOSS,\n",
        "#                         resultados.columns[5]: LEARNING_RATE,\n",
        "#                         resultados.columns[6]: DROPOUT_RATE,\n",
        "#                         resultados.columns[7]: BATCH,\n",
        "#                         resultados.columns[8]: ROC_CURVE,\n",
        "#                         resultados.columns[9]: TRAIN_RESUME,\n",
        "#                         resultados.columns[10]: CONFUSION_MATRIX,\n",
        "#                         resultados.columns[11]: EPOCHS,\n",
        "#                         resultados.columns[12]: RANK,\n",
        "#                     }\n",
        "\n",
        "# resultados = resultados.append(registro_resultado, ignore_index=True)\n",
        "\n",
        "# resultados.to_csv('../resultados.csv')"
      ]
    },
    {
      "cell_type": "code",
      "execution_count": 15,
      "metadata": {
        "id": "FjbaIl1kC_J9"
      },
      "outputs": [
        {
          "data": {
            "image/png": "[encoded data removed]",
            "text/plain": [
              "<IPython.core.display.Image object>"
            ]
          },
          "execution_count": 15,
          "metadata": {},
          "output_type": "execute_result"
        }
      ],
      "source": [
        "# Final evaluation of the model\n",
        "import pydot\n",
        "\n",
        "tf.keras.utils.plot_model(opt_model, to_file='v12.png', show_shapes=True)\n",
        "# scores = opt_model.evaluate(X_test, y_test, verbose=1)\n",
        "# print(\"Accuracy: %.2f%%\" % (scores[1]*100))\n",
        "\n",
        "# # plot dos gráficos\n",
        "# ntl.plot_accuracy(history)\n",
        "# ntl.plot_loss(history)"
      ]
    }
  ],
  "metadata": {
    "accelerator": "GPU",
    "colab": {
      "collapsed_sections": [],
      "provenance": []
    },
    "kernelspec": {
      "display_name": "Python 3.8.0 64-bit",
      "language": "python",
      "name": "python3"
    },
    "language_info": {
      "codemirror_mode": {
        "name": "ipython",
        "version": 3
      },
      "file_extension": ".py",
      "mimetype": "text/x-python",
      "name": "python",
      "nbconvert_exporter": "python",
      "pygments_lexer": "ipython3",
      "version": "3.8.0"
    },
    "vscode": {
      "interpreter": {
        "hash": "9403936ddbb94aea0a9f331f9ab296deb47ae18a255e6907c0bae275c12cd30e"
      }
    }
  },
  "nbformat": 4,
  "nbformat_minor": 0
}
